{
 "cells": [
  {
   "cell_type": "code",
   "execution_count": 179,
   "id": "e54d7b97",
   "metadata": {},
   "outputs": [],
   "source": [
    "class Heap:\n",
    "    def __init__(self, size, heapType):\n",
    "        self.customList = [None] * size\n",
    "        self.heapSize = 0\n",
    "        self.maxSize  =  size \n",
    "        self.heapType = heapType\n",
    "        \n",
    "# total data you have in HEAP\n",
    "def sizeofHeap(rootNode):\n",
    "    if not rootNode:\n",
    "        return\n",
    "    else:\n",
    "        return rootNode.heapSize\n",
    "    \n",
    "# find or access max or min value : output\n",
    "def peek(rootNode):\n",
    "    if not rootNode:\n",
    "        return\n",
    "    else:\n",
    "        return rootNode.customList[0]   # time O(1) : max or min"
   ]
  },
  {
   "cell_type": "code",
   "execution_count": 139,
   "id": "b9a36e5d",
   "metadata": {},
   "outputs": [],
   "source": []
  },
  {
   "cell_type": "code",
   "execution_count": null,
   "id": "245249c7",
   "metadata": {},
   "outputs": [],
   "source": []
  },
  {
   "cell_type": "code",
   "execution_count": 180,
   "id": "7b344361",
   "metadata": {},
   "outputs": [],
   "source": [
    "def heapify(rootNode, childIndex, heapType ):\n",
    "    \n",
    "    # Base Case : recursion\n",
    "    if childIndex <= 0:\n",
    "        return \n",
    "    \n",
    "    \n",
    "    # retrive parent index\n",
    "    if childIndex % 2 == 0:\n",
    "        print(\"even : RC\")\n",
    "        parentIndex  = int ( (childIndex - 2 ) / 2 )\n",
    "        print(parentIndex)\n",
    "    else:\n",
    "        print(\"odd : LC\")\n",
    "        parentIndex = int ( ( childIndex - 1  ) / 2 )\n",
    "        print(parentIndex)\n",
    "    \n",
    "    if heapType == \"Max\":\n",
    "        if rootNode.customList[parentIndex] <  rootNode.customList[childIndex]:\n",
    "            # swap :  x,y = y,x :heapify\n",
    "            rootNode.customList[parentIndex], rootNode.customList[childIndex] =  rootNode.customList[childIndex], rootNode.customList[parentIndex]\n",
    "            print(\"heapify done : Max\")\n",
    "            \n",
    "        heapify(rootNode, parentIndex, heapType)\n",
    "            \n",
    "    elif heapType == \"Min\":\n",
    "        if rootNode.customList[parentIndex] > rootNode.customList[childIndex]:\n",
    "            # swap: x,y = y,x : heapify\n",
    "            rootNode.customList[parentIndex], rootNode.customList[childIndex] =  rootNode.customList[childIndex], rootNode.customList[parentIndex]\n",
    "            print(\"heapify done : Min\")\n",
    "            \n",
    "        heapify(rootNode, parentIndex, heapType)\n",
    "            \n",
    "    else:\n",
    "        print(\"heap type is not supported : Max / Min\")\n",
    "   \n",
    "        "
   ]
  },
  {
   "cell_type": "code",
   "execution_count": 181,
   "id": "c683620d",
   "metadata": {},
   "outputs": [],
   "source": [
    "def insert(rootNode, nodeValue):\n",
    "    if  rootNode.heapSize < rootNode.maxSize:\n",
    "        rootNode.customList[rootNode.heapSize]  = nodeValue\n",
    "        heapify(rootNode ,  rootNode.heapSize , rootNode.heapType)\n",
    "        rootNode.heapSize += 1\n",
    "        return \"inserted ...\"\n",
    "    else:\n",
    "        return \"error in insertion ..\"\n",
    "\n"
   ]
  },
  {
   "cell_type": "code",
   "execution_count": 188,
   "id": "828e3e6a",
   "metadata": {},
   "outputs": [],
   "source": [
    "a = Heap(10, \"Max\")\n",
    "b = Heap(20, \"Min\")"
   ]
  },
  {
   "cell_type": "code",
   "execution_count": 189,
   "id": "cf740eab",
   "metadata": {},
   "outputs": [
    {
     "name": "stdout",
     "output_type": "stream",
     "text": [
      "odd : LC\n",
      "0\n",
      "even : RC\n",
      "0\n",
      "heapify done : Max\n",
      "odd : LC\n",
      "1\n",
      "heapify done : Max\n",
      "odd : LC\n",
      "0\n",
      "heapify done : Max\n",
      "even : RC\n",
      "1\n",
      "heapify done : Max\n",
      "odd : LC\n",
      "0\n",
      "heapify done : Max\n",
      "odd : LC\n",
      "2\n",
      "even : RC\n",
      "0\n"
     ]
    },
    {
     "data": {
      "text/plain": [
       "'inserted ...'"
      ]
     },
     "execution_count": 189,
     "metadata": {},
     "output_type": "execute_result"
    }
   ],
   "source": [
    "insert(a, 20)\n",
    "insert(a, 2)\n",
    "insert(a, 40)\n",
    "insert(a, 60)\n",
    "insert(a, 70)\n",
    "insert(a, 5)\n"
   ]
  },
  {
   "cell_type": "code",
   "execution_count": 191,
   "id": "956e6628",
   "metadata": {},
   "outputs": [
    {
     "data": {
      "text/plain": [
       "[70, 60, 20, 2, 40, 5, None, None, None, None]"
      ]
     },
     "execution_count": 191,
     "metadata": {},
     "output_type": "execute_result"
    }
   ],
   "source": [
    "a.customList"
   ]
  },
  {
   "cell_type": "code",
   "execution_count": 192,
   "id": "ff375b2c",
   "metadata": {},
   "outputs": [
    {
     "data": {
      "text/plain": [
       "70"
      ]
     },
     "execution_count": 192,
     "metadata": {},
     "output_type": "execute_result"
    }
   ],
   "source": [
    "peek(a)"
   ]
  },
  {
   "cell_type": "code",
   "execution_count": 185,
   "id": "bec92e6c",
   "metadata": {},
   "outputs": [
    {
     "data": {
      "text/plain": [
       "'inserted ...'"
      ]
     },
     "execution_count": 185,
     "metadata": {},
     "output_type": "execute_result"
    }
   ],
   "source": [
    "insert(a, 20)"
   ]
  },
  {
   "cell_type": "code",
   "execution_count": 193,
   "id": "21aa5b37",
   "metadata": {},
   "outputs": [
    {
     "name": "stdout",
     "output_type": "stream",
     "text": [
      "odd : LC\n",
      "0\n",
      "even : RC\n",
      "0\n",
      "odd : LC\n",
      "1\n",
      "heapify done : Min\n",
      "odd : LC\n",
      "0\n",
      "heapify done : Min\n",
      "even : RC\n",
      "1\n",
      "odd : LC\n",
      "0\n",
      "odd : LC\n",
      "2\n",
      "even : RC\n",
      "0\n"
     ]
    },
    {
     "data": {
      "text/plain": [
       "'inserted ...'"
      ]
     },
     "execution_count": 193,
     "metadata": {},
     "output_type": "execute_result"
    }
   ],
   "source": [
    "insert(b, 3)\n",
    "insert(b, 30)\n",
    "insert(b, 14)\n",
    "insert(b, 1)\n",
    "insert(b, 45)\n",
    "insert(b, 90)"
   ]
  },
  {
   "cell_type": "code",
   "execution_count": 194,
   "id": "fa439d38",
   "metadata": {},
   "outputs": [
    {
     "data": {
      "text/plain": [
       "[1,\n",
       " 3,\n",
       " 14,\n",
       " 30,\n",
       " 45,\n",
       " 90,\n",
       " None,\n",
       " None,\n",
       " None,\n",
       " None,\n",
       " None,\n",
       " None,\n",
       " None,\n",
       " None,\n",
       " None,\n",
       " None,\n",
       " None,\n",
       " None,\n",
       " None,\n",
       " None]"
      ]
     },
     "execution_count": 194,
     "metadata": {},
     "output_type": "execute_result"
    }
   ],
   "source": [
    "b.customList"
   ]
  },
  {
   "cell_type": "code",
   "execution_count": 195,
   "id": "764c9ecf",
   "metadata": {},
   "outputs": [
    {
     "data": {
      "text/plain": [
       "1"
      ]
     },
     "execution_count": 195,
     "metadata": {},
     "output_type": "execute_result"
    }
   ],
   "source": [
    "peek(b)"
   ]
  },
  {
   "cell_type": "code",
   "execution_count": null,
   "id": "e09417a7",
   "metadata": {},
   "outputs": [],
   "source": []
  },
  {
   "cell_type": "code",
   "execution_count": 178,
   "id": "f8cbd145",
   "metadata": {},
   "outputs": [
    {
     "data": {
      "text/plain": [
       "'Max'"
      ]
     },
     "execution_count": 178,
     "metadata": {},
     "output_type": "execute_result"
    }
   ],
   "source": [
    "a.heapType"
   ]
  },
  {
   "cell_type": "code",
   "execution_count": null,
   "id": "fbf2ce38",
   "metadata": {},
   "outputs": [],
   "source": []
  },
  {
   "cell_type": "code",
   "execution_count": 148,
   "id": "978d4706",
   "metadata": {},
   "outputs": [],
   "source": [
    "a.customList[0] = 20\n",
    "a.customList[1] = 10\n",
    "a.customList[2] = 2"
   ]
  },
  {
   "cell_type": "code",
   "execution_count": 163,
   "id": "eb00104a",
   "metadata": {},
   "outputs": [],
   "source": []
  },
  {
   "cell_type": "code",
   "execution_count": null,
   "id": "593305a5",
   "metadata": {},
   "outputs": [],
   "source": []
  },
  {
   "cell_type": "code",
   "execution_count": 164,
   "id": "1ac80e47",
   "metadata": {},
   "outputs": [],
   "source": [
    "a = Heap(10)"
   ]
  },
  {
   "cell_type": "code",
   "execution_count": 165,
   "id": "ec055ae4",
   "metadata": {},
   "outputs": [
    {
     "data": {
      "text/plain": [
       "'inserted ...'"
      ]
     },
     "execution_count": 165,
     "metadata": {},
     "output_type": "execute_result"
    }
   ],
   "source": [
    "insert(a, 20, \"Max\")"
   ]
  },
  {
   "cell_type": "code",
   "execution_count": 170,
   "id": "375f44e5",
   "metadata": {},
   "outputs": [
    {
     "data": {
      "text/plain": [
       "[20, 15, 2, 10, None, None, None, None, None, None]"
      ]
     },
     "execution_count": 170,
     "metadata": {},
     "output_type": "execute_result"
    }
   ],
   "source": [
    "a.customList"
   ]
  },
  {
   "cell_type": "code",
   "execution_count": 167,
   "id": "495174c6",
   "metadata": {},
   "outputs": [
    {
     "name": "stdout",
     "output_type": "stream",
     "text": [
      "odd : LC\n",
      "0\n",
      "even : RC\n",
      "0\n"
     ]
    },
    {
     "data": {
      "text/plain": [
       "'inserted ...'"
      ]
     },
     "execution_count": 167,
     "metadata": {},
     "output_type": "execute_result"
    }
   ],
   "source": [
    "insert(a, 10 , \"Max\")\n",
    "insert(a, 2 , \"Max\")"
   ]
  },
  {
   "cell_type": "code",
   "execution_count": 169,
   "id": "fdd3de72",
   "metadata": {},
   "outputs": [
    {
     "name": "stdout",
     "output_type": "stream",
     "text": [
      "odd : LC\n",
      "1\n",
      "heapify done : Max\n",
      "odd : LC\n",
      "0\n"
     ]
    },
    {
     "data": {
      "text/plain": [
       "'inserted ...'"
      ]
     },
     "execution_count": 169,
     "metadata": {},
     "output_type": "execute_result"
    }
   ],
   "source": [
    "insert(a, 15 , \"Max\")"
   ]
  },
  {
   "cell_type": "code",
   "execution_count": 172,
   "id": "141381f4",
   "metadata": {},
   "outputs": [
    {
     "name": "stdout",
     "output_type": "stream",
     "text": [
      "even : RC\n",
      "1\n",
      "heapify done : Max\n",
      "odd : LC\n",
      "0\n",
      "heapify done : Max\n"
     ]
    },
    {
     "data": {
      "text/plain": [
       "'inserted ...'"
      ]
     },
     "execution_count": 172,
     "metadata": {},
     "output_type": "execute_result"
    }
   ],
   "source": [
    "insert(a, 40 , \"Max\")"
   ]
  },
  {
   "cell_type": "code",
   "execution_count": 173,
   "id": "2cf12b9e",
   "metadata": {},
   "outputs": [
    {
     "data": {
      "text/plain": [
       "[40, 20, 2, 10, 15, None, None, None, None, None]"
      ]
     },
     "execution_count": 173,
     "metadata": {},
     "output_type": "execute_result"
    }
   ],
   "source": [
    "a.customList"
   ]
  },
  {
   "cell_type": "code",
   "execution_count": 150,
   "id": "3cd77928",
   "metadata": {},
   "outputs": [],
   "source": [
    "a.customList[3] = 15"
   ]
  },
  {
   "cell_type": "code",
   "execution_count": 151,
   "id": "040eeabc",
   "metadata": {},
   "outputs": [
    {
     "name": "stdout",
     "output_type": "stream",
     "text": [
      "odd : LC\n",
      "1\n",
      "heapify done : Max\n",
      "odd : LC\n",
      "0\n"
     ]
    }
   ],
   "source": [
    "heapify(a , 3 , \"Max\")"
   ]
  },
  {
   "cell_type": "code",
   "execution_count": null,
   "id": "0d63d58a",
   "metadata": {},
   "outputs": [],
   "source": []
  },
  {
   "cell_type": "code",
   "execution_count": 153,
   "id": "ad2631ac",
   "metadata": {},
   "outputs": [],
   "source": [
    "\n",
    "a.customList[4] = 5\n"
   ]
  },
  {
   "cell_type": "code",
   "execution_count": 154,
   "id": "9e1e6bfa",
   "metadata": {},
   "outputs": [
    {
     "name": "stdout",
     "output_type": "stream",
     "text": [
      "even : RC\n",
      "1\n",
      "odd : LC\n",
      "0\n"
     ]
    }
   ],
   "source": [
    "heapify(a , 4 , \"Max\")"
   ]
  },
  {
   "cell_type": "code",
   "execution_count": 156,
   "id": "3f4f5dfb",
   "metadata": {},
   "outputs": [],
   "source": [
    "a.customList[5] = 40"
   ]
  },
  {
   "cell_type": "code",
   "execution_count": 157,
   "id": "e08d4feb",
   "metadata": {},
   "outputs": [
    {
     "name": "stdout",
     "output_type": "stream",
     "text": [
      "odd : LC\n",
      "2\n",
      "heapify done : Max\n",
      "even : RC\n",
      "0\n",
      "heapify done : Max\n"
     ]
    }
   ],
   "source": [
    "heapify(a , 5 , \"Max\")"
   ]
  },
  {
   "cell_type": "code",
   "execution_count": null,
   "id": "2f986c2b",
   "metadata": {},
   "outputs": [],
   "source": []
  },
  {
   "cell_type": "code",
   "execution_count": 55,
   "id": "2eae0d1f",
   "metadata": {},
   "outputs": [],
   "source": [
    "a = Heap(10)"
   ]
  },
  {
   "cell_type": "code",
   "execution_count": 56,
   "id": "f28ec386",
   "metadata": {},
   "outputs": [
    {
     "data": {
      "text/plain": [
       "0"
      ]
     },
     "execution_count": 56,
     "metadata": {},
     "output_type": "execute_result"
    }
   ],
   "source": [
    "sizeofHeap(a)"
   ]
  },
  {
   "cell_type": "code",
   "execution_count": 174,
   "id": "a95866a4",
   "metadata": {},
   "outputs": [
    {
     "data": {
      "text/plain": [
       "40"
      ]
     },
     "execution_count": 174,
     "metadata": {},
     "output_type": "execute_result"
    }
   ],
   "source": [
    "peek(a)"
   ]
  },
  {
   "cell_type": "code",
   "execution_count": null,
   "id": "07357a7d",
   "metadata": {},
   "outputs": [],
   "source": []
  },
  {
   "cell_type": "code",
   "execution_count": 36,
   "id": "ee25ca4f",
   "metadata": {},
   "outputs": [
    {
     "data": {
      "text/plain": [
       "5"
      ]
     },
     "execution_count": 36,
     "metadata": {},
     "output_type": "execute_result"
    }
   ],
   "source": [
    "len(rootnode.customList)"
   ]
  },
  {
   "cell_type": "code",
   "execution_count": 37,
   "id": "994363c6",
   "metadata": {},
   "outputs": [
    {
     "data": {
      "text/plain": [
       "[None, None, None, None, None]"
      ]
     },
     "execution_count": 37,
     "metadata": {},
     "output_type": "execute_result"
    }
   ],
   "source": [
    "rootnode.customList"
   ]
  },
  {
   "cell_type": "code",
   "execution_count": 10,
   "id": "f192d4d2",
   "metadata": {},
   "outputs": [
    {
     "data": {
      "text/plain": [
       "5"
      ]
     },
     "execution_count": 10,
     "metadata": {},
     "output_type": "execute_result"
    }
   ],
   "source": [
    "a.maxSize"
   ]
  },
  {
   "cell_type": "code",
   "execution_count": 30,
   "id": "931e42a7",
   "metadata": {},
   "outputs": [
    {
     "data": {
      "text/plain": [
       "5"
      ]
     },
     "execution_count": 30,
     "metadata": {},
     "output_type": "execute_result"
    }
   ],
   "source": [
    "a.heapSize"
   ]
  },
  {
   "cell_type": "code",
   "execution_count": 38,
   "id": "6e2d187d",
   "metadata": {},
   "outputs": [],
   "source": [
    "if  rootnode.heapSize < rootnode.maxSize:\n",
    "    rootnode.customList[rootnode.heapSize]  = \"pop\"\n",
    "    rootnode.heapSize += 1"
   ]
  },
  {
   "cell_type": "code",
   "execution_count": 46,
   "id": "790213e6",
   "metadata": {},
   "outputs": [],
   "source": []
  },
  {
   "cell_type": "code",
   "execution_count": 47,
   "id": "a908ce87",
   "metadata": {},
   "outputs": [
    {
     "data": {
      "text/plain": [
       "'pop'"
      ]
     },
     "execution_count": 47,
     "metadata": {},
     "output_type": "execute_result"
    }
   ],
   "source": [
    "peek(rootnode)"
   ]
  },
  {
   "cell_type": "code",
   "execution_count": 52,
   "id": "2dc22b97",
   "metadata": {},
   "outputs": [],
   "source": []
  },
  {
   "cell_type": "code",
   "execution_count": 53,
   "id": "dbd9808c",
   "metadata": {},
   "outputs": [
    {
     "data": {
      "text/plain": [
       "1"
      ]
     },
     "execution_count": 53,
     "metadata": {},
     "output_type": "execute_result"
    }
   ],
   "source": [
    "sizeofHeap(rootnode)"
   ]
  },
  {
   "cell_type": "code",
   "execution_count": 62,
   "id": "b340fade",
   "metadata": {},
   "outputs": [
    {
     "data": {
      "text/plain": [
       "0"
      ]
     },
     "execution_count": 62,
     "metadata": {},
     "output_type": "execute_result"
    }
   ],
   "source": [
    "8 % 2"
   ]
  },
  {
   "cell_type": "code",
   "execution_count": 73,
   "id": "2666bccc",
   "metadata": {},
   "outputs": [],
   "source": [
    "x=5"
   ]
  },
  {
   "cell_type": "code",
   "execution_count": 74,
   "id": "0a5ffdac",
   "metadata": {},
   "outputs": [],
   "source": [
    "y=10"
   ]
  },
  {
   "cell_type": "code",
   "execution_count": 75,
   "id": "10a9c2f7",
   "metadata": {},
   "outputs": [],
   "source": [
    "x,y = y,x"
   ]
  },
  {
   "cell_type": "code",
   "execution_count": 76,
   "id": "a00022a7",
   "metadata": {},
   "outputs": [
    {
     "data": {
      "text/plain": [
       "10"
      ]
     },
     "execution_count": 76,
     "metadata": {},
     "output_type": "execute_result"
    }
   ],
   "source": [
    "x"
   ]
  },
  {
   "cell_type": "code",
   "execution_count": 77,
   "id": "e7d36222",
   "metadata": {},
   "outputs": [
    {
     "data": {
      "text/plain": [
       "5"
      ]
     },
     "execution_count": 77,
     "metadata": {},
     "output_type": "execute_result"
    }
   ],
   "source": [
    "y"
   ]
  },
  {
   "cell_type": "code",
   "execution_count": null,
   "id": "f2b98963",
   "metadata": {},
   "outputs": [],
   "source": []
  }
 ],
 "metadata": {
  "kernelspec": {
   "display_name": "Python 3",
   "language": "python",
   "name": "python3"
  },
  "language_info": {
   "codemirror_mode": {
    "name": "ipython",
    "version": 3
   },
   "file_extension": ".py",
   "mimetype": "text/x-python",
   "name": "python",
   "nbconvert_exporter": "python",
   "pygments_lexer": "ipython3",
   "version": "3.8.8"
  }
 },
 "nbformat": 4,
 "nbformat_minor": 5
}
